{
  "cells": [
    {
      "cell_type": "markdown",
      "metadata": {
        "id": "tYFNDYpP2Rj4"
      },
      "source": [
        "# Chapter 2\n",
        "\n",
        "Examples and Exercises from Think Stats, 2nd Edition\n",
        "\n",
        "http://thinkstats2.com\n",
        "\n",
        "Copyright 2016 Allen B. Downey\n",
        "\n",
        "MIT License: https://opensource.org/licenses/MIT\n"
      ]
    },
    {
      "cell_type": "code",
      "execution_count": null,
      "metadata": {
        "id": "G2FzsElb2Rj7"
      },
      "outputs": [],
      "source": [
        "import numpy as np"
      ]
    },
    {
      "cell_type": "code",
      "execution_count": null,
      "metadata": {
        "id": "lH-2ARWq2Rj9"
      },
      "outputs": [],
      "source": [
        "from os.path import basename, exists\n",
        "\n",
        "\n",
        "def download(url):\n",
        "    filename = basename(url)\n",
        "    if not exists(filename):\n",
        "        from urllib.request import urlretrieve\n",
        "\n",
        "        local, _ = urlretrieve(url, filename)\n",
        "        print(\"Downloaded \" + local)\n",
        "\n",
        "\n",
        "download(\"https://github.com/AllenDowney/ThinkStats2/raw/master/code/thinkstats2.py\")\n",
        "download(\"https://github.com/AllenDowney/ThinkStats2/raw/master/code/thinkplot.py\")"
      ]
    },
    {
      "cell_type": "markdown",
      "metadata": {
        "id": "Fla1ufH42Rj9"
      },
      "source": [
        "Given a list of values, there are several ways to count the frequency of each value."
      ]
    },
    {
      "cell_type": "code",
      "execution_count": null,
      "metadata": {
        "id": "Sk2yCKxK2Rj-"
      },
      "outputs": [],
      "source": [
        "t = [1, 2, 2, 3, 5]"
      ]
    },
    {
      "cell_type": "markdown",
      "metadata": {
        "id": "3yokhSqR2Rj-"
      },
      "source": [
        "You can use a Python dictionary:"
      ]
    },
    {
      "cell_type": "code",
      "execution_count": null,
      "metadata": {
        "id": "gzFCx39a2Rj_"
      },
      "outputs": [],
      "source": [
        "hist = {}\n",
        "for x in t:\n",
        "    hist[x] = hist.get(x, 0) + 1\n",
        "\n",
        "hist"
      ]
    },
    {
      "cell_type": "markdown",
      "metadata": {
        "id": "7OjuB5gd2Rj_"
      },
      "source": [
        "You can use a `Counter` (which is a dictionary with additional methods):"
      ]
    },
    {
      "cell_type": "code",
      "execution_count": null,
      "metadata": {
        "id": "UeG24-kY2Rj_"
      },
      "outputs": [],
      "source": [
        "from collections import Counter\n",
        "counter = Counter(t)\n",
        "counter"
      ]
    },
    {
      "cell_type": "markdown",
      "metadata": {
        "id": "DJNnw-cY2RkA"
      },
      "source": [
        "Or you can use the `Hist` object provided by `thinkstats2`:"
      ]
    },
    {
      "cell_type": "code",
      "execution_count": null,
      "metadata": {
        "id": "Uz_TO7zt2RkA"
      },
      "outputs": [],
      "source": [
        "import thinkstats2\n",
        "hist = thinkstats2.Hist([1, 2, 2, 3, 5])\n",
        "hist"
      ]
    },
    {
      "cell_type": "markdown",
      "metadata": {
        "id": "CyXGudkR2RkB"
      },
      "source": [
        "`Hist` provides `Freq`, which looks up the frequency of a value."
      ]
    },
    {
      "cell_type": "code",
      "execution_count": null,
      "metadata": {
        "id": "E1Sf-0CG2RkB"
      },
      "outputs": [],
      "source": [
        "hist.Freq(2)"
      ]
    },
    {
      "cell_type": "markdown",
      "metadata": {
        "id": "toegXvqn2RkB"
      },
      "source": [
        "You can also use the bracket operator, which does the same thing."
      ]
    },
    {
      "cell_type": "code",
      "execution_count": null,
      "metadata": {
        "id": "CuwaV2D32RkB"
      },
      "outputs": [],
      "source": [
        "hist[2]"
      ]
    },
    {
      "cell_type": "markdown",
      "metadata": {
        "id": "bX2drlj22RkC"
      },
      "source": [
        "If the value does not appear, it has frequency 0."
      ]
    },
    {
      "cell_type": "code",
      "execution_count": null,
      "metadata": {
        "id": "w3LqZb8k2RkC"
      },
      "outputs": [],
      "source": [
        "hist[4]"
      ]
    },
    {
      "cell_type": "markdown",
      "metadata": {
        "id": "_hVYGaq_2RkC"
      },
      "source": [
        "The `Values` method returns the values:"
      ]
    },
    {
      "cell_type": "code",
      "execution_count": null,
      "metadata": {
        "id": "Ls-L8kcj2RkC"
      },
      "outputs": [],
      "source": [
        "hist.Values()"
      ]
    },
    {
      "cell_type": "markdown",
      "metadata": {
        "id": "zHB_gwDY2RkD"
      },
      "source": [
        "So you can iterate the values and their frequencies like this:"
      ]
    },
    {
      "cell_type": "code",
      "execution_count": null,
      "metadata": {
        "id": "uhQGVu1u2RkD"
      },
      "outputs": [],
      "source": [
        "for val in sorted(hist.Values()):\n",
        "    print(val, hist[val])"
      ]
    },
    {
      "cell_type": "markdown",
      "metadata": {
        "id": "seR4YuG62RkD"
      },
      "source": [
        "Or you can use the `Items` method:"
      ]
    },
    {
      "cell_type": "code",
      "execution_count": null,
      "metadata": {
        "id": "12nL87w52RkD"
      },
      "outputs": [],
      "source": [
        "for val, freq in hist.Items():\n",
        "     print(val, freq)"
      ]
    },
    {
      "cell_type": "markdown",
      "metadata": {
        "id": "m0sAdP9S2RkD"
      },
      "source": [
        "`thinkplot` is a wrapper for `matplotlib` that provides functions that work with the objects in `thinkstats2`.\n",
        "\n",
        "For example `Hist` plots the values and their frequencies as a bar graph.\n",
        "\n",
        "`Config` takes parameters that label the x and y axes, among other things."
      ]
    },
    {
      "cell_type": "code",
      "execution_count": null,
      "metadata": {
        "id": "UAQXZiTV2RkE"
      },
      "outputs": [],
      "source": [
        "import thinkplot\n",
        "thinkplot.Hist(hist)\n",
        "thinkplot.Config(xlabel='value', ylabel='frequency')"
      ]
    },
    {
      "cell_type": "markdown",
      "metadata": {
        "id": "cZMQcOsY2RkE"
      },
      "source": [
        "As an example, I'll replicate some of the figures from the book.\n",
        "\n",
        "First, I'll load the data from the pregnancy file and select the records for live births."
      ]
    },
    {
      "cell_type": "code",
      "execution_count": null,
      "metadata": {
        "id": "zwkIUAGj2RkE"
      },
      "outputs": [],
      "source": [
        "download(\"https://github.com/AllenDowney/ThinkStats2/raw/master/code/nsfg.py\")\n",
        "\n",
        "download(\"https://github.com/AllenDowney/ThinkStats2/raw/master/code/2002FemPreg.dct\")\n",
        "download(\n",
        "    \"https://github.com/AllenDowney/ThinkStats2/raw/master/code/2002FemPreg.dat.gz\"\n",
        ")"
      ]
    },
    {
      "cell_type": "code",
      "execution_count": null,
      "metadata": {
        "id": "hG6QbGpz2RkE"
      },
      "outputs": [],
      "source": [
        "import nsfg"
      ]
    },
    {
      "cell_type": "code",
      "execution_count": null,
      "metadata": {
        "id": "HqxnnREW2RkE"
      },
      "outputs": [],
      "source": [
        "preg = nsfg.ReadFemPreg()\n",
        "live = preg[preg.outcome == 1]"
      ]
    },
    {
      "cell_type": "markdown",
      "metadata": {
        "id": "7tXkn2Ez2RkE"
      },
      "source": [
        "Here's the histogram of birth weights in pounds.  Notice that `Hist` works with anything iterable, including a Pandas Series.  The `label` attribute appears in the legend when you plot the `Hist`."
      ]
    },
    {
      "cell_type": "code",
      "execution_count": null,
      "metadata": {
        "id": "PlXFc40b2RkF"
      },
      "outputs": [],
      "source": [
        "hist = thinkstats2.Hist(live.birthwgt_lb, label='birthwgt_lb')\n",
        "thinkplot.Hist(hist)\n",
        "thinkplot.Config(xlabel='Birth weight (pounds)', ylabel='Count')"
      ]
    },
    {
      "cell_type": "markdown",
      "metadata": {
        "id": "dOT89dmj2RkF"
      },
      "source": [
        "Before plotting the ages, I'll apply `floor` to round down:"
      ]
    },
    {
      "cell_type": "code",
      "execution_count": null,
      "metadata": {
        "id": "_p-6SpGp2RkF"
      },
      "outputs": [],
      "source": [
        "ages = np.floor(live.agepreg)"
      ]
    },
    {
      "cell_type": "code",
      "execution_count": null,
      "metadata": {
        "id": "RS0imDY22RkF"
      },
      "outputs": [],
      "source": [
        "hist = thinkstats2.Hist(ages, label='agepreg')\n",
        "thinkplot.Hist(hist)\n",
        "thinkplot.Config(xlabel='years', ylabel='Count')"
      ]
    },
    {
      "cell_type": "markdown",
      "metadata": {
        "id": "966NXO_U2RkF"
      },
      "source": [
        "As an exercise, plot the histogram of pregnancy lengths (column `prglngth`)."
      ]
    },
    {
      "cell_type": "code",
      "execution_count": null,
      "metadata": {
        "id": "fPPBYEC62RkF"
      },
      "outputs": [],
      "source": []
    },
    {
      "cell_type": "markdown",
      "metadata": {
        "id": "c5s3p9EW2RkG"
      },
      "source": [
        "`Hist` provides smallest, which select the lowest values and their frequencies."
      ]
    },
    {
      "cell_type": "code",
      "execution_count": null,
      "metadata": {
        "id": "yquhv_YX2RkG"
      },
      "outputs": [],
      "source": [
        "for weeks, freq in hist.Smallest(10):\n",
        "    print(weeks, freq)"
      ]
    },
    {
      "cell_type": "markdown",
      "metadata": {
        "id": "YUmLRboB2RkG"
      },
      "source": [
        "Use `Largest` to display the longest pregnancy lengths."
      ]
    },
    {
      "cell_type": "code",
      "execution_count": null,
      "metadata": {
        "id": "O2N6QZde2RkJ"
      },
      "outputs": [],
      "source": []
    },
    {
      "cell_type": "markdown",
      "metadata": {
        "id": "2xznAhXw2RkJ"
      },
      "source": [
        "From live births, we can select first babies and others using `birthord`, then compute histograms of pregnancy length for the two groups."
      ]
    },
    {
      "cell_type": "code",
      "execution_count": null,
      "metadata": {
        "id": "zb2bHc612RkK"
      },
      "outputs": [],
      "source": [
        "firsts = live[live.birthord == 1]\n",
        "others = live[live.birthord != 1]\n",
        "\n",
        "first_hist = thinkstats2.Hist(firsts.prglngth, label='first')\n",
        "other_hist = thinkstats2.Hist(others.prglngth, label='other')"
      ]
    },
    {
      "cell_type": "markdown",
      "metadata": {
        "id": "UMT7p2Oi2RkK"
      },
      "source": [
        "We can use `width` and `align` to plot two histograms side-by-side."
      ]
    },
    {
      "cell_type": "code",
      "execution_count": null,
      "metadata": {
        "id": "WPOtXrxq2RkK"
      },
      "outputs": [],
      "source": [
        "width = 0.45\n",
        "thinkplot.PrePlot(2)\n",
        "thinkplot.Hist(first_hist, align='right', width=width)\n",
        "thinkplot.Hist(other_hist, align='left', width=width)\n",
        "thinkplot.Config(xlabel='weeks', ylabel='Count', xlim=[27, 46])"
      ]
    },
    {
      "cell_type": "markdown",
      "metadata": {
        "id": "KIAFYKnb2RkK"
      },
      "source": [
        "`Series` provides methods to compute summary statistics:"
      ]
    },
    {
      "cell_type": "code",
      "execution_count": null,
      "metadata": {
        "id": "EqOVS0Hc2RkK"
      },
      "outputs": [],
      "source": [
        "mean = live.prglngth.mean()\n",
        "var = live.prglngth.var()\n",
        "std = live.prglngth.std()"
      ]
    },
    {
      "cell_type": "markdown",
      "metadata": {
        "id": "uU0wfltV2RkK"
      },
      "source": [
        "Here are the mean and standard deviation:"
      ]
    },
    {
      "cell_type": "code",
      "execution_count": null,
      "metadata": {
        "id": "bEtReri62RkK"
      },
      "outputs": [],
      "source": [
        "mean, std"
      ]
    },
    {
      "cell_type": "markdown",
      "metadata": {
        "id": "lrfQ4DRt2RkL"
      },
      "source": [
        "As an exercise, confirm that `std` is the square root of `var`:"
      ]
    },
    {
      "cell_type": "code",
      "execution_count": null,
      "metadata": {
        "id": "3heMLPRm2RkL"
      },
      "outputs": [],
      "source": []
    },
    {
      "cell_type": "markdown",
      "metadata": {
        "id": "ZvSEuv732RkL"
      },
      "source": [
        "Here's are the mean pregnancy lengths for first babies and others:"
      ]
    },
    {
      "cell_type": "code",
      "execution_count": null,
      "metadata": {
        "id": "Hm1dj2dO2RkL"
      },
      "outputs": [],
      "source": [
        "firsts.prglngth.mean(), others.prglngth.mean()"
      ]
    },
    {
      "cell_type": "markdown",
      "metadata": {
        "id": "hTOQS_B62RkL"
      },
      "source": [
        "And here's the difference (in weeks):"
      ]
    },
    {
      "cell_type": "code",
      "execution_count": null,
      "metadata": {
        "id": "LII4S9eQ2RkM"
      },
      "outputs": [],
      "source": [
        "firsts.prglngth.mean() - others.prglngth.mean()"
      ]
    },
    {
      "cell_type": "markdown",
      "metadata": {
        "id": "AkzTJ5ru2RkM"
      },
      "source": [
        "This functon computes the Cohen effect size, which is the difference in means expressed in number of standard deviations:"
      ]
    },
    {
      "cell_type": "code",
      "execution_count": null,
      "metadata": {
        "id": "fprjNHE52RkM"
      },
      "outputs": [],
      "source": [
        "def CohenEffectSize(group1, group2):\n",
        "    \"\"\"Computes Cohen's effect size for two groups.\n",
        "\n",
        "    group1: Series or DataFrame\n",
        "    group2: Series or DataFrame\n",
        "\n",
        "    returns: float if the arguments are Series;\n",
        "             Series if the arguments are DataFrames\n",
        "    \"\"\"\n",
        "    diff = group1.mean() - group2.mean()\n",
        "\n",
        "    var1 = group1.var()\n",
        "    var2 = group2.var()\n",
        "    n1, n2 = len(group1), len(group2)\n",
        "\n",
        "    pooled_var = (n1 * var1 + n2 * var2) / (n1 + n2)\n",
        "    d = diff / np.sqrt(pooled_var)\n",
        "    return d"
      ]
    },
    {
      "cell_type": "markdown",
      "metadata": {
        "id": "DN-Xo0HB2RkM"
      },
      "source": [
        "Compute the Cohen effect size for the difference in pregnancy length for first babies and others."
      ]
    },
    {
      "cell_type": "code",
      "execution_count": null,
      "metadata": {
        "id": "yYq-5n7u2RkM"
      },
      "outputs": [],
      "source": []
    },
    {
      "cell_type": "markdown",
      "metadata": {
        "collapsed": true,
        "id": "AJ4T7f7x2RkN"
      },
      "source": [
        "## Exercises"
      ]
    },
    {
      "cell_type": "markdown",
      "metadata": {
        "id": "qK2r3Qre2RkN"
      },
      "source": [
        "Using the variable `totalwgt_lb`, investigate whether first babies are lighter or heavier than others.\n",
        "\n",
        "Compute Cohen’s effect size to quantify the difference between the groups.  How does it compare to the difference in pregnancy length?"
      ]
    },
    {
      "cell_type": "code",
      "execution_count": null,
      "metadata": {
        "id": "9gsDuPIe2RkN"
      },
      "outputs": [],
      "source": []
    },
    {
      "cell_type": "code",
      "execution_count": null,
      "metadata": {
        "id": "Hzk0EYuq2RkN"
      },
      "outputs": [],
      "source": []
    },
    {
      "cell_type": "markdown",
      "metadata": {
        "id": "07yXPZ342RkN"
      },
      "source": [
        "For the next few exercises, we'll load the respondent file:"
      ]
    },
    {
      "cell_type": "code",
      "execution_count": null,
      "metadata": {
        "id": "HkmzWJud2RkO"
      },
      "outputs": [],
      "source": [
        "download(\"https://github.com/AllenDowney/ThinkStats2/raw/master/code/2002FemResp.dct\")\n",
        "download(\"https://github.com/AllenDowney/ThinkStats2/raw/master/code/2002FemResp.dat.gz\")"
      ]
    },
    {
      "cell_type": "code",
      "execution_count": null,
      "metadata": {
        "id": "z6Cqasro2RkO"
      },
      "outputs": [],
      "source": [
        "resp = nsfg.ReadFemResp()"
      ]
    },
    {
      "cell_type": "markdown",
      "metadata": {
        "id": "jcN_jiSp2RkO"
      },
      "source": [
        "Make a histogram of <tt>totincr</tt> the total income for the respondent's family.  To interpret the codes see the [codebook](ftp://ftp.cdc.gov/pub/Health_Statistics/NCHS/Dataset_Documentation/NSFG/Cycle6Codebook-Pregnancy.pdf)."
      ]
    },
    {
      "cell_type": "code",
      "execution_count": null,
      "metadata": {
        "id": "pRdDS8SY2RkO"
      },
      "outputs": [],
      "source": []
    },
    {
      "cell_type": "markdown",
      "metadata": {
        "id": "xUwfXaZi2RkO"
      },
      "source": [
        "Make a histogram of <tt>age_r</tt>, the respondent's age at the time of interview."
      ]
    },
    {
      "cell_type": "code",
      "execution_count": null,
      "metadata": {
        "id": "xdzO1pdD2RkO"
      },
      "outputs": [],
      "source": []
    },
    {
      "cell_type": "markdown",
      "metadata": {
        "id": "tipMaFDw2RkO"
      },
      "source": [
        "Make a histogram of <tt>numfmhh</tt>, the number of people in the respondent's household."
      ]
    },
    {
      "cell_type": "code",
      "execution_count": null,
      "metadata": {
        "id": "eASPixR-2RkP"
      },
      "outputs": [],
      "source": []
    },
    {
      "cell_type": "markdown",
      "metadata": {
        "id": "5BNQzC3L2RkP"
      },
      "source": [
        "Make a histogram of <tt>parity</tt>, the number of children borne by the respondent.  How would you describe this distribution?"
      ]
    },
    {
      "cell_type": "code",
      "execution_count": null,
      "metadata": {
        "id": "B9OMoSYb2RkP"
      },
      "outputs": [],
      "source": []
    },
    {
      "cell_type": "markdown",
      "metadata": {
        "id": "rJTUhKj-2RkP"
      },
      "source": [
        "Use Hist.Largest to find the largest values of <tt>parity</tt>."
      ]
    },
    {
      "cell_type": "code",
      "execution_count": null,
      "metadata": {
        "id": "Ef37Q-OM2RkQ"
      },
      "outputs": [],
      "source": []
    },
    {
      "cell_type": "markdown",
      "metadata": {
        "id": "bJk9n0vc2RkQ"
      },
      "source": [
        "Let's investigate whether people with higher income have higher parity.  Keep in mind that in this study, we are observing different people at different times during their lives, so this data is not the best choice for answering this question.  But for now let's take it at face value.\n",
        "\n",
        "Use <tt>totincr</tt> to select the respondents with the highest income (level 14).  Plot the histogram of <tt>parity</tt> for just the high income respondents."
      ]
    },
    {
      "cell_type": "code",
      "execution_count": null,
      "metadata": {
        "id": "Bte0dsNi2RkQ"
      },
      "outputs": [],
      "source": []
    },
    {
      "cell_type": "markdown",
      "metadata": {
        "id": "v_gDsiiY2RkR"
      },
      "source": [
        "Find the largest parities for high income respondents."
      ]
    },
    {
      "cell_type": "code",
      "execution_count": null,
      "metadata": {
        "id": "mVWcIx-u2RkR"
      },
      "outputs": [],
      "source": []
    },
    {
      "cell_type": "markdown",
      "metadata": {
        "id": "cPIzhlED2RkR"
      },
      "source": [
        "Compare the mean <tt>parity</tt> for high income respondents and others."
      ]
    },
    {
      "cell_type": "code",
      "execution_count": null,
      "metadata": {
        "id": "RBdMFx9t2RkR"
      },
      "outputs": [],
      "source": []
    },
    {
      "cell_type": "markdown",
      "metadata": {
        "id": "acpmwFim2RkR"
      },
      "source": [
        "Compute the Cohen effect size for this difference.  How does it compare with the difference in pregnancy length for first babies and others?"
      ]
    },
    {
      "cell_type": "code",
      "execution_count": null,
      "metadata": {
        "id": "qF-AAa1F2RkS"
      },
      "outputs": [],
      "source": []
    },
    {
      "cell_type": "code",
      "execution_count": null,
      "metadata": {
        "id": "9sojWYQd2RkS"
      },
      "outputs": [],
      "source": []
    }
  ],
  "metadata": {
    "kernelspec": {
      "display_name": "Python 3 (ipykernel)",
      "language": "python",
      "name": "python3"
    },
    "language_info": {
      "codemirror_mode": {
        "name": "ipython",
        "version": 3
      },
      "file_extension": ".py",
      "mimetype": "text/x-python",
      "name": "python",
      "nbconvert_exporter": "python",
      "pygments_lexer": "ipython3",
      "version": "3.8.16"
    },
    "colab": {
      "provenance": []
    }
  },
  "nbformat": 4,
  "nbformat_minor": 0
}